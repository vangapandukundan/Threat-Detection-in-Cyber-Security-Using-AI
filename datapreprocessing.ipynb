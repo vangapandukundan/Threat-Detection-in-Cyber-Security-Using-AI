{
  "nbformat": 4,
  "nbformat_minor": 0,
  "metadata": {
    "colab": {
      "provenance": [],
      "authorship_tag": "ABX9TyNyPwGIPYfixqhKl6NmqPeU",
      "include_colab_link": true
    },
    "kernelspec": {
      "name": "python3",
      "display_name": "Python 3"
    },
    "language_info": {
      "name": "python"
    }
  },
  "cells": [
    {
      "cell_type": "markdown",
      "metadata": {
        "id": "view-in-github",
        "colab_type": "text"
      },
      "source": [
        "<a href=\"https://colab.research.google.com/github/vangapandukundan/Threat-Detection-in-Cyber-Security-Using-AI/blob/v2-harshitha/datapreprocessing.ipynb\" target=\"_parent\"><img src=\"https://colab.research.google.com/assets/colab-badge.svg\" alt=\"Open In Colab\"/></a>"
      ]
    },
    {
      "cell_type": "code",
      "source": [
        "!unzip -u /content/MachineLearningCSV.zip -d /content/MachineLearningCSV\n",
        "!unzip -u /content/GeneratedLabelledFlows.zip -d /content/GeneratedLabelledFlows"
      ],
      "metadata": {
        "colab": {
          "base_uri": "https://localhost:8080/"
        },
        "id": "YTvgflM5gRgt",
        "outputId": "1e45ea95-fbb6-4e69-be6c-13e72055c43c"
      },
      "execution_count": 5,
      "outputs": [
        {
          "output_type": "stream",
          "name": "stdout",
          "text": [
            "Archive:  /content/MachineLearningCSV.zip\n",
            "Archive:  /content/GeneratedLabelledFlows.zip\n",
            "   creating: /content/GeneratedLabelledFlows/TrafficLabelling /\n",
            "  inflating: /content/GeneratedLabelledFlows/TrafficLabelling /Wednesday-workingHours.pcap_ISCX.csv  \n",
            "  inflating: /content/GeneratedLabelledFlows/TrafficLabelling /Tuesday-WorkingHours.pcap_ISCX.csv  \n",
            "  inflating: /content/GeneratedLabelledFlows/TrafficLabelling /Thursday-WorkingHours-Morning-WebAttacks.pcap_ISCX.csv  \n",
            "  inflating: /content/GeneratedLabelledFlows/TrafficLabelling /Thursday-WorkingHours-Afternoon-Infilteration.pcap_ISCX.csv  \n",
            "  inflating: /content/GeneratedLabelledFlows/TrafficLabelling /Monday-WorkingHours.pcap_ISCX.csv  \n",
            "  inflating: /content/GeneratedLabelledFlows/TrafficLabelling /Friday-WorkingHours-Morning.pcap_ISCX.csv  \n",
            "  inflating: /content/GeneratedLabelledFlows/TrafficLabelling /Friday-WorkingHours-Afternoon-DDos.pcap_ISCX.csv  \n",
            "  inflating: /content/GeneratedLabelledFlows/TrafficLabelling /Friday-WorkingHours-Afternoon-PortScan.pcap_ISCX.csv  \n"
          ]
        }
      ]
    },
    {
      "cell_type": "code",
      "execution_count": 15,
      "metadata": {
        "colab": {
          "base_uri": "https://localhost:8080/"
        },
        "id": "3g139-39bSqM",
        "outputId": "fb301e20-5b8b-42fa-f714-e42343dd1941"
      },
      "outputs": [
        {
          "output_type": "stream",
          "name": "stdout",
          "text": [
            "Loaded: Friday-WorkingHours-Afternoon-PortScan.pcap_ISCX.csv\n",
            "Loaded: Thursday-WorkingHours-Morning-WebAttacks.pcap_ISCX.csv\n",
            "Loaded: Friday-WorkingHours-Afternoon-DDos.pcap_ISCX.csv\n",
            "Loaded: Monday-WorkingHours.pcap_ISCX.csv\n",
            "Loaded: Thursday-WorkingHours-Afternoon-Infilteration.pcap_ISCX.csv\n",
            "Loaded: Friday-WorkingHours-Morning.pcap_ISCX.csv\n",
            "Loaded: Tuesday-WorkingHours.pcap_ISCX.csv\n",
            "Loaded: Wednesday-workingHours.pcap_ISCX.csv\n",
            "'Label'\n"
          ]
        }
      ],
      "source": [
        "import os\n",
        "import pandas as pd\n",
        "import numpy as np\n",
        "from sklearn.preprocessing import LabelEncoder, StandardScaler\n",
        "from sklearn.model_selection import train_test_split\n",
        "from sklearn.ensemble import RandomForestClassifier\n",
        "from sklearn.metrics import classification_report\n",
        "\n",
        "# Function to read and combine all CSV files in a folder\n",
        "def load_all_csvs_from_folder(folder_path):\n",
        "    all_dataframes = []\n",
        "    for filename in os.listdir(folder_path):\n",
        "        if filename.endswith(\".csv\"):\n",
        "            file_path = os.path.join(folder_path, filename)\n",
        "            try:\n",
        "                df = pd.read_csv(file_path, low_memory=False)\n",
        "                all_dataframes.append(df)\n",
        "                print(f\"Loaded: {filename}\")\n",
        "            except Exception as e:\n",
        "                print(f\"Error reading {filename}: {e}\")\n",
        "    # Combine all DataFrames\n",
        "    combined_df = pd.concat(all_dataframes, ignore_index=True)\n",
        "    return combined_df\n",
        "\n",
        "# Function to preprocess the dataset\n",
        "def preprocess_data(df):\n",
        "    # Drop columns with too many missing values\n",
        "    df.dropna(axis=1, thresh=len(df) * 0.6, inplace=True)\n",
        "\n",
        "    # Fill remaining missing values with 0\n",
        "    df.fillna(0, inplace=True)\n",
        "\n",
        "    # Drop non-informative or redundant columns\n",
        "    df.drop(columns=[col for col in df.columns if 'Flow ID' in col or 'Timestamp' in col], errors='ignore', inplace=True)\n",
        "\n",
        "    # Encode categorical variables\n",
        "    for column in df.select_dtypes(include=['object']).columns:\n",
        "        if column != 'Label':\n",
        "            le = LabelEncoder()\n",
        "            df[column] = le.fit_transform(df[column].astype(str))\n",
        "\n",
        "    # Encode labels (binary classification: normal vs attack)\n",
        "    df['Label'] = df['Label'].apply(lambda x: 0 if 'BENIGN' in str(x).upper() else 1)\n",
        "\n",
        "    return df\n",
        "\n",
        "# Function to train and evaluate a Random Forest model\n",
        "def train_improved_model(df):\n",
        "    X = df.drop('Label', axis=1)\n",
        "    y = df['Label']\n",
        "\n",
        "    # Scale features\n",
        "    scaler = StandardScaler()\n",
        "    X_scaled = scaler.fit_transform(X)\n",
        "\n",
        "    # Split into training and testing data\n",
        "    X_train, X_test, y_train, y_test = train_test_split(X_scaled, y, test_size=0.3, random_state=42, stratify=y)\n",
        "\n",
        "    # Train a Random Forest Classifier\n",
        "    clf = RandomForestClassifier(n_estimators=100, random_state=42)\n",
        "    clf.fit(X_train, y_train)\n",
        "\n",
        "    # Predict and evaluate\n",
        "    y_pred = clf.predict(X_test)\n",
        "    report = classification_report(y_test, y_pred, output_dict=True)\n",
        "\n",
        "    return report\n",
        "\n",
        "# Example usage\n",
        "folder_path = \"/content/MachineLearningCSV/MachineLearningCVE\"  # Replace with your real path\n",
        "\n",
        "try:\n",
        "    raw_df = load_all_csvs_from_folder(folder_path)\n",
        "    processed_df = preprocess_data(raw_df)\n",
        "    model_report = train_improved_model(processed_df)\n",
        "except Exception as e:\n",
        "    model_report = str(e)\n",
        "\n",
        "print(model_report)\n"
      ]
    },
    {
      "cell_type": "code",
      "source": [],
      "metadata": {
        "id": "KMCCNOEkjvNd"
      },
      "execution_count": null,
      "outputs": []
    }
  ]
}